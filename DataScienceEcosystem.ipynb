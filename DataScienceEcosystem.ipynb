{
 "cells": [
  {
   "cell_type": "markdown",
   "id": "e3c15a1b-276b-4e77-9c42-b22a1239c018",
   "metadata": {},
   "source": [
    "# Data Science Tools and Ecosystem"
   ]
  },
  {
   "cell_type": "markdown",
   "id": "413efdc7-9428-4b6a-aa09-a2945e71822c",
   "metadata": {},
   "source": [
    "In this notebook, Data Science Tools and Ecosystem are summarized."
   ]
  },
  {
   "cell_type": "markdown",
   "id": "ea19ba9c-8705-43cf-a6b0-cf4e801cfc06",
   "metadata": {},
   "source": [
    "**Objectives:**\n",
    "- List popular languages that Data Scientists use are\n",
    "- List commonly used libraries used by Data Scientists\n",
    "- Simples example of evaluating arithmetic expressions in Python"
   ]
  },
  {
   "cell_type": "markdown",
   "id": "ddffdec9-0d0d-45fc-869c-5462754ab5e0",
   "metadata": {},
   "source": [
    "Some of the popular languages that Data Scientists use are:\n",
    "1. Python\n",
    "2. R\n",
    "3. Scala"
   ]
  },
  {
   "cell_type": "markdown",
   "id": "edf7ec03-b827-4289-bb0c-ef30ef26511a",
   "metadata": {},
   "source": [
    "Some of the commonly used libraries used by Data Scientists include:\n",
    "1. Scikit-learn\n",
    "2. Keras\n",
    "3. Pytorch"
   ]
  },
  {
   "cell_type": "markdown",
   "id": "0a45e642-9d58-403b-be0e-5c62b06cfb6d",
   "metadata": {},
   "source": [
    "|Data Science Tools|\n",
    "------------------\n",
    "| Rstudio |\n",
    "| Google Colab|\n",
    "| Kagle |"
   ]
  },
  {
   "cell_type": "markdown",
   "id": "355d4983-5760-4e78-b79d-7c98ba5b1501",
   "metadata": {},
   "source": [
    "### Below are a few examples of evaluating arithmetic expressions in Python:\n",
    "3 + 2"
   ]
  },
  {
   "cell_type": "code",
   "execution_count": 1,
   "id": "4b2e05ff-39c3-42bd-ab0f-3f47794ceb13",
   "metadata": {
    "tags": []
   },
   "outputs": [
    {
     "data": {
      "text/plain": [
       "17"
      ]
     },
     "execution_count": 1,
     "metadata": {},
     "output_type": "execute_result"
    }
   ],
   "source": [
    "# This a simple arithmetic expression to mutiply then add integers\n",
    "(3*4)+5"
   ]
  },
  {
   "cell_type": "code",
   "execution_count": 2,
   "id": "572ea15a-9a28-4636-a158-e173b22e11e1",
   "metadata": {
    "tags": []
   },
   "outputs": [
    {
     "data": {
      "text/plain": [
       "3.3333333333333335"
      ]
     },
     "execution_count": 2,
     "metadata": {},
     "output_type": "execute_result"
    }
   ],
   "source": [
    "# This will convert 200 minutes to hours by diving by 60\n",
    "200 / 60"
   ]
  },
  {
   "cell_type": "markdown",
   "id": "120f4cbd-3005-4420-8b5e-d7f99412c6a6",
   "metadata": {},
   "source": [
    "## Author: \n",
    "Mohammed"
   ]
  },
  {
   "cell_type": "code",
   "execution_count": null,
   "id": "bbb8cfc0-3e5b-4c2e-9a78-f3e2b9bc9fbc",
   "metadata": {},
   "outputs": [],
   "source": []
  }
 ],
 "metadata": {
  "kernelspec": {
   "display_name": "Python 3 (ipykernel)",
   "language": "python",
   "name": "python3"
  },
  "language_info": {
   "codemirror_mode": {
    "name": "ipython",
    "version": 3
   },
   "file_extension": ".py",
   "mimetype": "text/x-python",
   "name": "python",
   "nbconvert_exporter": "python",
   "pygments_lexer": "ipython3",
   "version": "3.12.0"
  }
 },
 "nbformat": 4,
 "nbformat_minor": 5
}
